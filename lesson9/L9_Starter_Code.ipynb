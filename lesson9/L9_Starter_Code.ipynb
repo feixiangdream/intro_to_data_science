{
 "cells": [
  {
   "cell_type": "code",
   "execution_count": 2,
   "metadata": {},
   "outputs": [
    {
     "ename": "ImportError",
     "evalue": "No module named util",
     "output_type": "error",
     "traceback": [
      "\u001b[0;31m---------------------------------------------------------------------------\u001b[0m",
      "\u001b[0;31mImportError\u001b[0m                               Traceback (most recent call last)",
      "\u001b[0;32m<ipython-input-2-0a3a354aec4f>\u001b[0m in \u001b[0;36m<module>\u001b[0;34m()\u001b[0m\n\u001b[1;32m      3\u001b[0m \u001b[1;32mimport\u001b[0m \u001b[0mstring\u001b[0m\u001b[1;33m\u001b[0m\u001b[0m\n\u001b[1;32m      4\u001b[0m \u001b[1;33m\u001b[0m\u001b[0m\n\u001b[0;32m----> 5\u001b[0;31m \u001b[1;32mfrom\u001b[0m \u001b[0mutil\u001b[0m \u001b[1;32mimport\u001b[0m \u001b[0mlogfile\u001b[0m\u001b[1;33m\u001b[0m\u001b[0m\n\u001b[0m\u001b[1;32m      6\u001b[0m \u001b[1;33m\u001b[0m\u001b[0m\n\u001b[1;32m      7\u001b[0m logging.basicConfig(filename=logfile, format='%(message)s',\n",
      "\u001b[0;31mImportError\u001b[0m: No module named util"
     ]
    }
   ],
   "source": [
    "import logging\n",
    "import sys\n",
    "import string\n",
    "\n",
    "from util import logfile\n",
    "\n",
    "logging.basicConfig(filename=logfile, format='%(message)s',\n",
    "                   level=logging.INFO, filemode='w')\n",
    "\n",
    "\n",
    "def word_count():\n",
    "    # For this exercise, write a program that serially counts the number of occurrences\n",
    "    # of each word in the book Alice in Wonderland.\n",
    "    #\n",
    "    # The text of Alice in Wonderland will be fed into your program line-by-line.\n",
    "    # Your program needs to take each line and do the following:\n",
    "    # 1) Tokenize the line into string tokens by whitespace\n",
    "    #    Example: \"Hello, World!\" should be converted into \"Hello,\" and \"World!\"\n",
    "    #    (This part has been done for you.)\n",
    "    #\n",
    "    # 2) Remove all punctuation\n",
    "    #    Example: \"Hello,\" and \"World!\" should be converted into \"Hello\" and \"World\"\n",
    "    #\n",
    "    # 3) Make all letters lowercase\n",
    "    #    Example: \"Hello\" and \"World\" should be converted to \"hello\" and \"world\"\n",
    "    #\n",
    "    # Store the the number of times that a word appears in Alice in Wonderland\n",
    "    # in the word_counts dictionary, and then *print* (don't return) that dictionary\n",
    "    #\n",
    "    # In this exercise, print statements will be considered your final output. Because\n",
    "    # of this, printing a debug statement will cause the grader to break. Instead, \n",
    "    # you can use the logging module which we've configured for you.\n",
    "    #\n",
    "    # For example:\n",
    "    # logging.info(\"My debugging message\")\n",
    "    #\n",
    "    # The logging module can be used to give you more control over your\n",
    "    # debugging or other messages than you can get by printing them. Messages \n",
    "    # logged via the logger we configured will be saved to a\n",
    "    # file. If you click \"Test Run\", then you will see the contents of that file\n",
    "    # once your program has finished running.\n",
    "    # \n",
    "    # The logging module also has other capabilities; see \n",
    "    # https://docs.python.org/2/library/logging.html\n",
    "    # for more information.\n",
    "\n",
    "    word_counts = {}\n",
    "\n",
    "    for line in sys.stdin:\n",
    "        data = line.strip().split(\" \")\n",
    "        for i in data:\n",
    "            key = i.translate(string.maketrans(\"\",\"\"),string.punctuation).lower()\n",
    "            if key in word_counts.keys():\n",
    "                word_counts[key] += 1\n",
    "            else:\n",
    "                word_counts[key] = 1\n",
    "        \n",
    "\n",
    "    print word_counts\n",
    "\n",
    "word_count()\n"
   ]
  },
  {
   "cell_type": "code",
   "execution_count": 3,
   "metadata": {
    "collapsed": true
   },
   "outputs": [],
   "source": [
    "import sys\n",
    "def mapper():\n",
    "    for line in sys.stdin:\n",
    "        \n",
    "        data = line.strip().split(\" \")\n",
    "        for i in data:\n",
    "            cleaned_data = i.translate(string.maketrans(\"\",\"\"),string.punctuation).lower()\n",
    "            print \"{0}\\t{1}\".format(cleaned_data,1)\n",
    "mapper()"
   ]
  },
  {
   "cell_type": "code",
   "execution_count": null,
   "metadata": {
    "collapsed": true
   },
   "outputs": [],
   "source": [
    "def reducer():\n",
    "    word_count = 0\n",
    "    "
   ]
  }
 ],
 "metadata": {
  "anaconda-cloud": {},
  "kernelspec": {
   "display_name": "Python [default]",
   "language": "python",
   "name": "python2"
  },
  "language_info": {
   "codemirror_mode": {
    "name": "ipython",
    "version": 2
   },
   "file_extension": ".py",
   "mimetype": "text/x-python",
   "name": "python",
   "nbconvert_exporter": "python",
   "pygments_lexer": "ipython2",
   "version": "2.7.12"
  }
 },
 "nbformat": 4,
 "nbformat_minor": 1
}
